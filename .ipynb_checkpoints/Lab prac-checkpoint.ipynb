{
 "cells": [
  {
   "cell_type": "markdown",
   "metadata": {},
   "source": [
    "## Unit testing"
   ]
  },
  {
   "cell_type": "markdown",
   "metadata": {},
   "source": [
    "### Sample code of a simulation of NYT Wordle"
   ]
  },
  {
   "cell_type": "code",
   "execution_count": 3,
   "metadata": {},
   "outputs": [],
   "source": [
    "import numpy as np\n",
    "import pandas as pd"
   ]
  },
  {
   "cell_type": "markdown",
   "metadata": {},
   "source": [
    "##### If a letter is in the word and in the correct position- letter surrounded with stars.\n",
    "##### If a letter is in the word but in the incorrect spot- the letter (with no stars).\n",
    "##### If a letter is not in the word in any spot- outputs an underscore."
   ]
  },
  {
   "cell_type": "code",
   "execution_count": 1,
   "metadata": {},
   "outputs": [],
   "source": [
    "def wordle(solution, guess):\n",
    "    # Valid inputs for solution and guess\n",
    "    if not isinstance(solution, str) or not solution.isalpha():\n",
    "        raise ValueError(\"Solution must be a non-empty string consisting of alphabetic characters only\")\n",
    "    \n",
    "    if not isinstance(guess, str) or not guess.isalpha():\n",
    "        raise ValueError(\"Guess must be a non-empty string consisting of alphabetic characters only\")\n",
    "\n",
    "    # Length of solution and guess must be 5\n",
    "    if len(solution) != 5 or len(guess) != 5:\n",
    "        raise ValueError(\"Solution and guess must be exactly 5 characters long\")\n",
    "        \n",
    "    # Length of solution and guuess must be the same\n",
    "    if len(solution) != len(guess):\n",
    "        raise ValueError(\"Solution and guess must be of the same length\")  \n",
    "   \n",
    "    solution = solution.upper()           # converting solution to upper case\n",
    "    guess = guess.upper()                 # converting the guesses word to upper case \n",
    "    for i in range(len(guess)):\n",
    "        if guess[i] == solution[i]:       # Checks if each letter in the corresponding position matches\n",
    "            print(\"*\", end = '') \n",
    "            print(guess[i], end = '')\n",
    "            print(\"*\", end = ' ')\n",
    "        elif guess[i] in solution:        # Checks jf the letter is anywhere in the solution\n",
    "            print(guess[i], end = ' ')\n",
    "        else:                             # Executed if the other two conditiond are not satisfied\n",
    "            print(\"_\", end = ' ')"
   ]
  },
  {
   "cell_type": "markdown",
   "metadata": {},
   "source": [
    "#### Testing- "
   ]
  },
  {
   "cell_type": "code",
   "execution_count": 2,
   "metadata": {},
   "outputs": [
    {
     "ename": "ValueError",
     "evalue": "Guess must be a non-empty string consisting of alphabetic characters only",
     "output_type": "error",
     "traceback": [
      "\u001b[1;31m---------------------------------------------------------------------------\u001b[0m",
      "\u001b[1;31mValueError\u001b[0m                                Traceback (most recent call last)",
      "Cell \u001b[1;32mIn[2], line 2\u001b[0m\n\u001b[0;32m      1\u001b[0m \u001b[38;5;66;03m# Testing valid input\u001b[39;00m\n\u001b[1;32m----> 2\u001b[0m wordle(\u001b[38;5;124m\"\u001b[39m\u001b[38;5;124madieu\u001b[39m\u001b[38;5;124m\"\u001b[39m, \u001b[38;5;124m\"\u001b[39m\u001b[38;5;124m*****\u001b[39m\u001b[38;5;124m\"\u001b[39m)\n",
      "Cell \u001b[1;32mIn[1], line 7\u001b[0m, in \u001b[0;36mwordle\u001b[1;34m(solution, guess)\u001b[0m\n\u001b[0;32m      4\u001b[0m     \u001b[38;5;28;01mraise\u001b[39;00m \u001b[38;5;167;01mValueError\u001b[39;00m(\u001b[38;5;124m\"\u001b[39m\u001b[38;5;124mSolution must be a non-empty string consisting of alphabetic characters only\u001b[39m\u001b[38;5;124m\"\u001b[39m)\n\u001b[0;32m      6\u001b[0m \u001b[38;5;28;01mif\u001b[39;00m \u001b[38;5;129;01mnot\u001b[39;00m \u001b[38;5;28misinstance\u001b[39m(guess, \u001b[38;5;28mstr\u001b[39m) \u001b[38;5;129;01mor\u001b[39;00m \u001b[38;5;129;01mnot\u001b[39;00m guess\u001b[38;5;241m.\u001b[39misalpha():\n\u001b[1;32m----> 7\u001b[0m     \u001b[38;5;28;01mraise\u001b[39;00m \u001b[38;5;167;01mValueError\u001b[39;00m(\u001b[38;5;124m\"\u001b[39m\u001b[38;5;124mGuess must be a non-empty string consisting of alphabetic characters only\u001b[39m\u001b[38;5;124m\"\u001b[39m)\n\u001b[0;32m      9\u001b[0m \u001b[38;5;66;03m# Length of solution and guess must be 5\u001b[39;00m\n\u001b[0;32m     10\u001b[0m \u001b[38;5;28;01mif\u001b[39;00m \u001b[38;5;28mlen\u001b[39m(solution) \u001b[38;5;241m!=\u001b[39m \u001b[38;5;241m5\u001b[39m \u001b[38;5;129;01mor\u001b[39;00m \u001b[38;5;28mlen\u001b[39m(guess) \u001b[38;5;241m!=\u001b[39m \u001b[38;5;241m5\u001b[39m:\n",
      "\u001b[1;31mValueError\u001b[0m: Guess must be a non-empty string consisting of alphabetic characters only"
     ]
    }
   ],
   "source": [
    "# Testing valid input\n",
    "wordle(\"adieu\", \"*****\")"
   ]
  },
  {
   "cell_type": "code",
   "execution_count": 3,
   "metadata": {},
   "outputs": [
    {
     "ename": "ValueError",
     "evalue": "Solution and guess must be exactly 5 characters long",
     "output_type": "error",
     "traceback": [
      "\u001b[1;31m---------------------------------------------------------------------------\u001b[0m",
      "\u001b[1;31mValueError\u001b[0m                                Traceback (most recent call last)",
      "Cell \u001b[1;32mIn[3], line 2\u001b[0m\n\u001b[0;32m      1\u001b[0m \u001b[38;5;66;03m# Testing equal length\u001b[39;00m\n\u001b[1;32m----> 2\u001b[0m wordle(\u001b[38;5;124m\"\u001b[39m\u001b[38;5;124msolution\u001b[39m\u001b[38;5;124m\"\u001b[39m, \u001b[38;5;124m\"\u001b[39m\u001b[38;5;124mstare\u001b[39m\u001b[38;5;124m\"\u001b[39m)\n",
      "Cell \u001b[1;32mIn[1], line 11\u001b[0m, in \u001b[0;36mwordle\u001b[1;34m(solution, guess)\u001b[0m\n\u001b[0;32m      9\u001b[0m \u001b[38;5;66;03m# Length of solution and guess must be 5\u001b[39;00m\n\u001b[0;32m     10\u001b[0m \u001b[38;5;28;01mif\u001b[39;00m \u001b[38;5;28mlen\u001b[39m(solution) \u001b[38;5;241m!=\u001b[39m \u001b[38;5;241m5\u001b[39m \u001b[38;5;129;01mor\u001b[39;00m \u001b[38;5;28mlen\u001b[39m(guess) \u001b[38;5;241m!=\u001b[39m \u001b[38;5;241m5\u001b[39m:\n\u001b[1;32m---> 11\u001b[0m     \u001b[38;5;28;01mraise\u001b[39;00m \u001b[38;5;167;01mValueError\u001b[39;00m(\u001b[38;5;124m\"\u001b[39m\u001b[38;5;124mSolution and guess must be exactly 5 characters long\u001b[39m\u001b[38;5;124m\"\u001b[39m)\n\u001b[0;32m     13\u001b[0m \u001b[38;5;66;03m# Length of solution and guuess must be the same\u001b[39;00m\n\u001b[0;32m     14\u001b[0m \u001b[38;5;28;01mif\u001b[39;00m \u001b[38;5;28mlen\u001b[39m(solution) \u001b[38;5;241m!=\u001b[39m \u001b[38;5;28mlen\u001b[39m(guess):\n",
      "\u001b[1;31mValueError\u001b[0m: Solution and guess must be exactly 5 characters long"
     ]
    }
   ],
   "source": [
    "# Testing equal length\n",
    "wordle(\"solution\", \"stare\")"
   ]
  },
  {
   "cell_type": "code",
   "execution_count": 4,
   "metadata": {},
   "outputs": [
    {
     "ename": "ValueError",
     "evalue": "Solution and guess must be exactly 5 characters long",
     "output_type": "error",
     "traceback": [
      "\u001b[1;31m---------------------------------------------------------------------------\u001b[0m",
      "\u001b[1;31mValueError\u001b[0m                                Traceback (most recent call last)",
      "Cell \u001b[1;32mIn[4], line 2\u001b[0m\n\u001b[0;32m      1\u001b[0m \u001b[38;5;66;03m# Testing length of 5\u001b[39;00m\n\u001b[1;32m----> 2\u001b[0m wordle(\u001b[38;5;124m\"\u001b[39m\u001b[38;5;124mtelephone\u001b[39m\u001b[38;5;124m\"\u001b[39m, \u001b[38;5;124m\"\u001b[39m\u001b[38;5;124mstare\u001b[39m\u001b[38;5;124m\"\u001b[39m)\n",
      "Cell \u001b[1;32mIn[1], line 11\u001b[0m, in \u001b[0;36mwordle\u001b[1;34m(solution, guess)\u001b[0m\n\u001b[0;32m      9\u001b[0m \u001b[38;5;66;03m# Length of solution and guess must be 5\u001b[39;00m\n\u001b[0;32m     10\u001b[0m \u001b[38;5;28;01mif\u001b[39;00m \u001b[38;5;28mlen\u001b[39m(solution) \u001b[38;5;241m!=\u001b[39m \u001b[38;5;241m5\u001b[39m \u001b[38;5;129;01mor\u001b[39;00m \u001b[38;5;28mlen\u001b[39m(guess) \u001b[38;5;241m!=\u001b[39m \u001b[38;5;241m5\u001b[39m:\n\u001b[1;32m---> 11\u001b[0m     \u001b[38;5;28;01mraise\u001b[39;00m \u001b[38;5;167;01mValueError\u001b[39;00m(\u001b[38;5;124m\"\u001b[39m\u001b[38;5;124mSolution and guess must be exactly 5 characters long\u001b[39m\u001b[38;5;124m\"\u001b[39m)\n\u001b[0;32m     13\u001b[0m \u001b[38;5;66;03m# Length of solution and guuess must be the same\u001b[39;00m\n\u001b[0;32m     14\u001b[0m \u001b[38;5;28;01mif\u001b[39;00m \u001b[38;5;28mlen\u001b[39m(solution) \u001b[38;5;241m!=\u001b[39m \u001b[38;5;28mlen\u001b[39m(guess):\n",
      "\u001b[1;31mValueError\u001b[0m: Solution and guess must be exactly 5 characters long"
     ]
    }
   ],
   "source": [
    "# Testing length of 5\n",
    "wordle(\"telephone\", \"stare\")"
   ]
  },
  {
   "cell_type": "code",
   "execution_count": 5,
   "metadata": {},
   "outputs": [
    {
     "name": "stdout",
     "output_type": "stream",
     "text": [
      "_ _ A _ E "
     ]
    }
   ],
   "source": [
    "wordle(\"adieu\", \"stare\")     # Working"
   ]
  },
  {
   "cell_type": "code",
   "execution_count": 6,
   "metadata": {},
   "outputs": [
    {
     "name": "stdout",
     "output_type": "stream",
     "text": [
      "_ _ A _ E "
     ]
    }
   ],
   "source": [
    "# Testing upper case\n",
    "wordle(\"adieu\", \"stare\")  # Gives upper case output"
   ]
  },
  {
   "cell_type": "code",
   "execution_count": 7,
   "metadata": {},
   "outputs": [
    {
     "name": "stdout",
     "output_type": "stream",
     "text": [
      "*E* _ E _ _ "
     ]
    }
   ],
   "source": [
    "# Repeating letters\n",
    "wordle(\"eerie\", \"event\")"
   ]
  },
  {
   "cell_type": "code",
   "execution_count": 8,
   "metadata": {},
   "outputs": [
    {
     "name": "stdout",
     "output_type": "stream",
     "text": [
      "*T* *R* *Y* *S* *T* "
     ]
    }
   ],
   "source": [
    "wordle(\"tryst\", \"tryst\")     # Working"
   ]
  },
  {
   "cell_type": "code",
   "execution_count": null,
   "metadata": {},
   "outputs": [],
   "source": []
  }
 ],
 "metadata": {
  "kernelspec": {
   "display_name": "Python 3 (ipykernel)",
   "language": "python",
   "name": "python3"
  },
  "language_info": {
   "codemirror_mode": {
    "name": "ipython",
    "version": 3
   },
   "file_extension": ".py",
   "mimetype": "text/x-python",
   "name": "python",
   "nbconvert_exporter": "python",
   "pygments_lexer": "ipython3",
   "version": "3.11.5"
  }
 },
 "nbformat": 4,
 "nbformat_minor": 4
}
