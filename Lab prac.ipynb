{
  "metadata": {
    "kernelspec": {
      "name": "python",
      "display_name": "Python (Pyodide)",
      "language": "python"
    },
    "language_info": {
      "codemirror_mode": {
        "name": "python",
        "version": 3
      },
      "file_extension": ".py",
      "mimetype": "text/x-python",
      "name": "python",
      "nbconvert_exporter": "python",
      "pygments_lexer": "ipython3",
      "version": "3.8"
    }
  },
  "nbformat_minor": 4,
  "nbformat": 4,
  "cells": [
    {
      "cell_type": "markdown",
      "source": "## Unit testing",
      "metadata": {}
    },
    {
      "cell_type": "markdown",
      "source": "### Sample code of a simulation of NYT Wordle",
      "metadata": {}
    },
    {
      "cell_type": "code",
      "source": "import numpy as np\nimport pandas as pd",
      "metadata": {
        "trusted": true
      },
      "outputs": [],
      "execution_count": 3
    },
    {
      "cell_type": "markdown",
      "source": "##### If a letter is in the word and in the correct position- letter surrounded with stars.\n##### If a letter is in the word but in the incorrect spot- the letter (with no stars).\n##### If a letter is not in the word in any spot- outputs an underscore.",
      "metadata": {}
    },
    {
      "cell_type": "code",
      "source": "def wordle(solution, guess):\n    # Valid inputs for solution and guess\n    if not isinstance(solution, str) or not solution.isalpha():\n        raise ValueError(\"Solution must be a non-empty string consisting of alphabetic characters only\")\n    \n    if not isinstance(guess, str) or not guess.isalpha():\n        raise ValueError(\"Guess must be a non-empty string consisting of alphabetic characters only\")\n\n    # Length of solution and guess must be 5\n    if len(solution) or len(guess) =! 5:\n        raise ValueError(\"Solution and Guess must be of 5 letter\")\n        \n    # Length of solution and guuess must be the same\n    if len(solution) != len(guess):\n        raise ValueError(\"Solution and guess must be of the same length\")  \n   \n    solution = solution.upper()           # converting solution to upper case\n    guess = guess.upper()                 # converting the guesses word to upper case \n    for i in range(len(guess)):\n        if guess[i] == solution[i]:       # Checks if each letter in the corresponding position matches\n            print(\"*\", end = '') \n            print(guess[i], end = '')\n            print(\"*\", end = ' ')\n        elif guess[i] in solution:        # Checks jf the letter is anywhere in the solution\n            print(guess[i], end = ' ')\n        else:                             # Executed if the other two conditiond are not satisfied\n            print(\"_\", end = ' ')",
      "metadata": {
        "trusted": true
      },
      "outputs": [
        {
          "ename": "<class 'SyntaxError'>",
          "evalue": "invalid syntax (<ipython-input-33-ab2019a3c385>, line 10)",
          "traceback": [
            "\u001b[0;36m  Cell \u001b[0;32mIn[33], line 10\u001b[0;36m\u001b[0m\n\u001b[0;31m    if len(solution) or len(guess) =get_ipython().getoutput(' 5:')\u001b[0m\n\u001b[0m                                   ^\u001b[0m\n\u001b[0;31mSyntaxError\u001b[0m\u001b[0;31m:\u001b[0m invalid syntax\n"
          ],
          "output_type": "error"
        }
      ],
      "execution_count": 33
    },
    {
      "cell_type": "markdown",
      "source": "#### Testing- ",
      "metadata": {}
    },
    {
      "cell_type": "code",
      "source": "# Testing valid input\nwordle(\"adieu\", \"*****\")",
      "metadata": {
        "trusted": true
      },
      "outputs": [
        {
          "ename": "<class 'ValueError'>",
          "evalue": "Guess must be a non-empty string consisting of alphabetic characters only",
          "traceback": [
            "\u001b[0;31m---------------------------------------------------------------------------\u001b[0m",
            "\u001b[0;31mValueError\u001b[0m                                Traceback (most recent call last)",
            "Cell \u001b[0;32mIn[30], line 2\u001b[0m\n\u001b[1;32m      1\u001b[0m \u001b[38;5;66;03m# Testing valid input\u001b[39;00m\n\u001b[0;32m----> 2\u001b[0m \u001b[43mwordle\u001b[49m\u001b[43m(\u001b[49m\u001b[38;5;124;43m\"\u001b[39;49m\u001b[38;5;124;43madieu\u001b[39;49m\u001b[38;5;124;43m\"\u001b[39;49m\u001b[43m,\u001b[49m\u001b[43m \u001b[49m\u001b[38;5;124;43m\"\u001b[39;49m\u001b[38;5;124;43m*****\u001b[39;49m\u001b[38;5;124;43m\"\u001b[39;49m\u001b[43m)\u001b[49m\n",
            "Cell \u001b[0;32mIn[24], line 7\u001b[0m, in \u001b[0;36mwordle\u001b[0;34m(solution, guess)\u001b[0m\n\u001b[1;32m      4\u001b[0m     \u001b[38;5;28;01mraise\u001b[39;00m \u001b[38;5;167;01mValueError\u001b[39;00m(\u001b[38;5;124m\"\u001b[39m\u001b[38;5;124mSolution must be a non-empty string consisting of alphabetic characters only\u001b[39m\u001b[38;5;124m\"\u001b[39m)\n\u001b[1;32m      6\u001b[0m \u001b[38;5;28;01mif\u001b[39;00m \u001b[38;5;129;01mnot\u001b[39;00m \u001b[38;5;28misinstance\u001b[39m(guess, \u001b[38;5;28mstr\u001b[39m) \u001b[38;5;129;01mor\u001b[39;00m \u001b[38;5;129;01mnot\u001b[39;00m guess\u001b[38;5;241m.\u001b[39misalpha():\n\u001b[0;32m----> 7\u001b[0m     \u001b[38;5;28;01mraise\u001b[39;00m \u001b[38;5;167;01mValueError\u001b[39;00m(\u001b[38;5;124m\"\u001b[39m\u001b[38;5;124mGuess must be a non-empty string consisting of alphabetic characters only\u001b[39m\u001b[38;5;124m\"\u001b[39m)\n\u001b[1;32m      9\u001b[0m \u001b[38;5;66;03m# Length of solution and guuess must be the same, which is a set number (5)\u001b[39;00m\n\u001b[1;32m     10\u001b[0m \u001b[38;5;28;01mif\u001b[39;00m \u001b[38;5;28mlen\u001b[39m(solution) \u001b[38;5;241m!=\u001b[39m \u001b[38;5;28mlen\u001b[39m(guess) \u001b[38;5;241m==\u001b[39m \u001b[38;5;241m5\u001b[39m:\n",
            "\u001b[0;31mValueError\u001b[0m: Guess must be a non-empty string consisting of alphabetic characters only"
          ],
          "output_type": "error"
        }
      ],
      "execution_count": 30
    },
    {
      "cell_type": "code",
      "source": "# Testing equal length\nwordle(\"solution\", \"stare\")",
      "metadata": {
        "trusted": true
      },
      "outputs": [
        {
          "ename": "<class 'ValueError'>",
          "evalue": "Solution and guess must be of the same length",
          "traceback": [
            "\u001b[0;31m---------------------------------------------------------------------------\u001b[0m",
            "\u001b[0;31mValueError\u001b[0m                                Traceback (most recent call last)",
            "Cell \u001b[0;32mIn[25], line 2\u001b[0m\n\u001b[1;32m      1\u001b[0m \u001b[38;5;66;03m# Testing first line\u001b[39;00m\n\u001b[0;32m----> 2\u001b[0m \u001b[43mwordle\u001b[49m\u001b[43m(\u001b[49m\u001b[38;5;124;43m\"\u001b[39;49m\u001b[38;5;124;43msolution\u001b[39;49m\u001b[38;5;124;43m\"\u001b[39;49m\u001b[43m,\u001b[49m\u001b[43m \u001b[49m\u001b[38;5;124;43m\"\u001b[39;49m\u001b[38;5;124;43mstare\u001b[39;49m\u001b[38;5;124;43m\"\u001b[39;49m\u001b[43m)\u001b[49m\n",
            "Cell \u001b[0;32mIn[24], line 11\u001b[0m, in \u001b[0;36mwordle\u001b[0;34m(solution, guess)\u001b[0m\n\u001b[1;32m      9\u001b[0m \u001b[38;5;66;03m# Length of solution and guuess must be the same, which is a set number (5)\u001b[39;00m\n\u001b[1;32m     10\u001b[0m \u001b[38;5;28;01mif\u001b[39;00m \u001b[38;5;28mlen\u001b[39m(solution) \u001b[38;5;241m!=\u001b[39m \u001b[38;5;28mlen\u001b[39m(guess) \u001b[38;5;241m==\u001b[39m \u001b[38;5;241m5\u001b[39m:\n\u001b[0;32m---> 11\u001b[0m     \u001b[38;5;28;01mraise\u001b[39;00m \u001b[38;5;167;01mValueError\u001b[39;00m(\u001b[38;5;124m\"\u001b[39m\u001b[38;5;124mSolution and guess must be of the same length\u001b[39m\u001b[38;5;124m\"\u001b[39m)  \n\u001b[1;32m     13\u001b[0m solution \u001b[38;5;241m=\u001b[39m solution\u001b[38;5;241m.\u001b[39mupper()           \u001b[38;5;66;03m# converting solution to upper case\u001b[39;00m\n\u001b[1;32m     14\u001b[0m guess \u001b[38;5;241m=\u001b[39m guess\u001b[38;5;241m.\u001b[39mupper()                 \u001b[38;5;66;03m# converting the guesses word to upper case \u001b[39;00m\n",
            "\u001b[0;31mValueError\u001b[0m: Solution and guess must be of the same length"
          ],
          "output_type": "error"
        }
      ],
      "execution_count": 25
    },
    {
      "cell_type": "code",
      "source": "# Testing length of 5\nwordle(\"telephone\", \"stare\")",
      "metadata": {
        "trusted": true
      },
      "outputs": [
        {
          "ename": "<class 'ValueError'>",
          "evalue": "Solution and guess must be of the same length",
          "traceback": [
            "\u001b[0;31m---------------------------------------------------------------------------\u001b[0m",
            "\u001b[0;31mValueError\u001b[0m                                Traceback (most recent call last)",
            "Cell \u001b[0;32mIn[31], line 2\u001b[0m\n\u001b[1;32m      1\u001b[0m \u001b[38;5;66;03m# Testing length of 5\u001b[39;00m\n\u001b[0;32m----> 2\u001b[0m \u001b[43mwordle\u001b[49m\u001b[43m(\u001b[49m\u001b[38;5;124;43m\"\u001b[39;49m\u001b[38;5;124;43mtelephone\u001b[39;49m\u001b[38;5;124;43m\"\u001b[39;49m\u001b[43m,\u001b[49m\u001b[43m \u001b[49m\u001b[38;5;124;43m\"\u001b[39;49m\u001b[38;5;124;43mstare\u001b[39;49m\u001b[38;5;124;43m\"\u001b[39;49m\u001b[43m)\u001b[49m\n",
            "Cell \u001b[0;32mIn[24], line 11\u001b[0m, in \u001b[0;36mwordle\u001b[0;34m(solution, guess)\u001b[0m\n\u001b[1;32m      9\u001b[0m \u001b[38;5;66;03m# Length of solution and guuess must be the same, which is a set number (5)\u001b[39;00m\n\u001b[1;32m     10\u001b[0m \u001b[38;5;28;01mif\u001b[39;00m \u001b[38;5;28mlen\u001b[39m(solution) \u001b[38;5;241m!=\u001b[39m \u001b[38;5;28mlen\u001b[39m(guess) \u001b[38;5;241m==\u001b[39m \u001b[38;5;241m5\u001b[39m:\n\u001b[0;32m---> 11\u001b[0m     \u001b[38;5;28;01mraise\u001b[39;00m \u001b[38;5;167;01mValueError\u001b[39;00m(\u001b[38;5;124m\"\u001b[39m\u001b[38;5;124mSolution and guess must be of the same length\u001b[39m\u001b[38;5;124m\"\u001b[39m)  \n\u001b[1;32m     13\u001b[0m solution \u001b[38;5;241m=\u001b[39m solution\u001b[38;5;241m.\u001b[39mupper()           \u001b[38;5;66;03m# converting solution to upper case\u001b[39;00m\n\u001b[1;32m     14\u001b[0m guess \u001b[38;5;241m=\u001b[39m guess\u001b[38;5;241m.\u001b[39mupper()                 \u001b[38;5;66;03m# converting the guesses word to upper case \u001b[39;00m\n",
            "\u001b[0;31mValueError\u001b[0m: Solution and guess must be of the same length"
          ],
          "output_type": "error"
        }
      ],
      "execution_count": 31
    },
    {
      "cell_type": "code",
      "source": "wordle(\"adieu\", \"stare\")     # Working",
      "metadata": {
        "trusted": true
      },
      "outputs": [
        {
          "name": "stdout",
          "text": "_ _ A _ E ",
          "output_type": "stream"
        }
      ],
      "execution_count": 26
    },
    {
      "cell_type": "code",
      "source": "# Testing upper case\nwordle(\"adieu\", \"stare\")  # Gives upper case output",
      "metadata": {
        "trusted": true
      },
      "outputs": [
        {
          "name": "stdout",
          "text": "_ _ A _ E ",
          "output_type": "stream"
        }
      ],
      "execution_count": 27
    },
    {
      "cell_type": "code",
      "source": "# Repeating letters\nwordle(\"eerie\", \"event\")",
      "metadata": {
        "trusted": true
      },
      "outputs": [
        {
          "name": "stdout",
          "text": "*E* _ E _ _ ",
          "output_type": "stream"
        }
      ],
      "execution_count": 28
    },
    {
      "cell_type": "code",
      "source": "wordle(\"tryst\", \"tryst\")     # Working",
      "metadata": {
        "trusted": true
      },
      "outputs": [
        {
          "name": "stdout",
          "text": "*T* *R* *Y* *S* *T* ",
          "output_type": "stream"
        }
      ],
      "execution_count": 29
    }
  ]
}